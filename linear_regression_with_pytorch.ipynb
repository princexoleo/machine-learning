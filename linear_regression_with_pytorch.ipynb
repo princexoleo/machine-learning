{
  "nbformat": 4,
  "nbformat_minor": 0,
  "metadata": {
    "colab": {
      "name": "linear_regression_with_pytorch.ipynb",
      "provenance": [],
      "collapsed_sections": [],
      "authorship_tag": "ABX9TyPU/MuhyEvwb0sMIgTecOft",
      "include_colab_link": true
    },
    "kernelspec": {
      "name": "python3",
      "display_name": "Python 3"
    }
  },
  "cells": [
    {
      "cell_type": "markdown",
      "metadata": {
        "id": "view-in-github",
        "colab_type": "text"
      },
      "source": [
        "<a href=\"https://colab.research.google.com/github/princexoleo/machine-learning/blob/master/linear_regression_with_pytorch.ipynb\" target=\"_parent\"><img src=\"https://colab.research.google.com/assets/colab-badge.svg\" alt=\"Open In Colab\"/></a>"
      ]
    },
    {
      "cell_type": "markdown",
      "metadata": {
        "id": "qd3mnreP5fAX",
        "colab_type": "text"
      },
      "source": [
        "##Linear Regression"
      ]
    },
    {
      "cell_type": "code",
      "metadata": {
        "id": "IRfXJGoB5F_B",
        "colab_type": "code",
        "outputId": "edf486a9-dd34-4cc8-bd59-cf9ed8c84533",
        "colab": {
          "base_uri": "https://localhost:8080/",
          "height": 288
        }
      },
      "source": [
        "import matplotlib.pyplot as plt\n",
        "import numpy as np\n",
        "\n",
        "x = [1,2,2.5,3,4]\n",
        "y = [1,2,7,9,15]\n",
        "plt.plot(x,y,'ro')\n",
        "plt.axis([0,6,0,20])"
      ],
      "execution_count": 0,
      "outputs": [
        {
          "output_type": "execute_result",
          "data": {
            "text/plain": [
              "(0.0, 6.0, 0.0, 20.0)"
            ]
          },
          "metadata": {
            "tags": []
          },
          "execution_count": 1
        },
        {
          "output_type": "display_data",
          "data": {
            "image/png": "[encoded data removed]",
            "text/plain": [
              "<Figure size 432x288 with 1 Axes>"
            ]
          },
          "metadata": {
            "tags": []
          }
        }
      ]
    },
    {
      "cell_type": "code",
      "metadata": {
        "id": "VWc1ddbW6Gi4",
        "colab_type": "code",
        "outputId": "9e4e9ba5-b1dd-496f-9190-ba76e75b37a1",
        "colab": {
          "base_uri": "https://localhost:8080/",
          "height": 269
        }
      },
      "source": [
        "plt.plot(x,y, 'ro')\n",
        "plt.axis([0,6,0,20])\n",
        "plt.plot(np.unique(x), np.poly1d( np.polyfit(x,y,1))(np.unique(x)))\n",
        "plt.show()"
      ],
      "execution_count": 0,
      "outputs": [
        {
          "output_type": "display_data",
          "data": {
            "image/png": "[encoded data removed]",
            "text/plain": [
              "<Figure size 432x288 with 1 Axes>"
            ]
          },
          "metadata": {
            "tags": []
          }
        }
      ]
    },
    {
      "cell_type": "code",
      "metadata": {
        "id": "sax05TMTbQUL",
        "colab_type": "code",
        "colab": {}
      },
      "source": [
        "import torch\n",
        "from torch.nn import Linear"
      ],
      "execution_count": 0,
      "outputs": []
    },
    {
      "cell_type": "code",
      "metadata": {
        "id": "2hBUaRjcbUX5",
        "colab_type": "code",
        "colab": {}
      },
      "source": [
        "# Linear regression y = w*x + b\n",
        "\n",
        "w = torch.tensor(3.0, requires_grad=True)\n",
        "b = torch.tensor(1.0, requires_grad=True)"
      ],
      "execution_count": 0,
      "outputs": []
    },
    {
      "cell_type": "code",
      "metadata": {
        "id": "YXzQbyjMbukn",
        "colab_type": "code",
        "colab": {}
      },
      "source": [
        "def forward(x):\n",
        "  y = w*x + b\n",
        "  return y"
      ],
      "execution_count": 0,
      "outputs": []
    },
    {
      "cell_type": "code",
      "metadata": {
        "id": "UnBpspmVbv0c",
        "colab_type": "code",
        "colab": {
          "base_uri": "https://localhost:8080/",
          "height": 53
        },
        "outputId": "806a8bb5-fbf4-41b6-d419-ff850187b557"
      },
      "source": [
        "x = torch.tensor([[4], [7]])\n",
        "forward(x)"
      ],
      "execution_count": 39,
      "outputs": [
        {
          "output_type": "execute_result",
          "data": {
            "text/plain": [
              "tensor([[13.],\n",
              "        [22.]], grad_fn=<AddBackward0>)"
            ]
          },
          "metadata": {
            "tags": []
          },
          "execution_count": 39
        }
      ]
    },
    {
      "cell_type": "code",
      "metadata": {
        "id": "wSmwlcGWcSbI",
        "colab_type": "code",
        "colab": {
          "base_uri": "https://localhost:8080/",
          "height": 71
        },
        "outputId": "02765c37-4d28-45c2-80fe-02435352a260"
      },
      "source": [
        "torch.manual_seed(1)\n",
        "# random value assign to weight(w) and bias (b)\n",
        "model = Linear(in_features=1, out_features=1)\n",
        "print(model.bias, model.weight)"
      ],
      "execution_count": 41,
      "outputs": [
        {
          "output_type": "stream",
          "text": [
            "Parameter containing:\n",
            "tensor([-0.4414], requires_grad=True) Parameter containing:\n",
            "tensor([[0.5153]], requires_grad=True)\n"
          ],
          "name": "stdout"
        }
      ]
    },
    {
      "cell_type": "code",
      "metadata": {
        "id": "1IZNIAAwcnJ1",
        "colab_type": "code",
        "colab": {
          "base_uri": "https://localhost:8080/",
          "height": 53
        },
        "outputId": "17423d60-a84a-4ea4-a79d-701908c5fa24"
      },
      "source": [
        "# prediction\n",
        "x = torch.tensor([[2.0],[3.3]])\n",
        "print(\"Predicted Value: \",model(x))"
      ],
      "execution_count": 44,
      "outputs": [
        {
          "output_type": "stream",
          "text": [
            "Predicted Value:  tensor([[0.5891],\n",
            "        [1.2590]], grad_fn=<AddmmBackward>)\n"
          ],
          "name": "stdout"
        }
      ]
    },
    {
      "cell_type": "code",
      "metadata": {
        "id": "RlUq-yzYdvmD",
        "colab_type": "code",
        "colab": {}
      },
      "source": [
        "import torch.nn as nn\n",
        "import matplotlib.pyplot as plt"
      ],
      "execution_count": 0,
      "outputs": []
    },
    {
      "cell_type": "code",
      "metadata": {
        "id": "9UFK7Qx1fu_-",
        "colab_type": "code",
        "colab": {
          "base_uri": "https://localhost:8080/",
          "height": 297
        },
        "outputId": "6429844c-711c-487d-9f1e-ac38b80c6db2"
      },
      "source": [
        "X = torch.randn(100, 1)*10\n",
        "Y = X + 3*torch.randn(100, 1)\n",
        "plt.plot(X.numpy(), Y.numpy(), 'o')\n",
        "plt.ylabel('Y')\n",
        "plt.xlabel(\"X\")"
      ],
      "execution_count": 107,
      "outputs": [
        {
          "output_type": "execute_result",
          "data": {
            "text/plain": [
              "Text(0.5, 0, 'X')"
            ]
          },
          "metadata": {
            "tags": []
          },
          "execution_count": 107
        },
        {
          "output_type": "display_data",
          "data": {
            "image/png": "[encoded data removed]",
            "text/plain": [
              "<Figure size 432x288 with 1 Axes>"
            ]
          },
          "metadata": {
            "tags": []
          }
        }
      ]
    },
    {
      "cell_type": "markdown",
      "metadata": {
        "id": "2R38d7qYd7K1",
        "colab_type": "text"
      },
      "source": [
        "custom Linear Regression class"
      ]
    },
    {
      "cell_type": "code",
      "metadata": {
        "id": "9keto-ykcy2x",
        "colab_type": "code",
        "colab": {}
      },
      "source": [
        "class LinearRegreesion(nn.Module):\n",
        "  def __init__(self, input_size, output_size):\n",
        "    super().__init__()\n",
        "    self.linear = nn.Linear(input_size, output_size)\n",
        "\n",
        "  # forward\n",
        "  def forward(self, x):\n",
        "    pred = self.linear(x)\n",
        "    return pred\n",
        "\n"
      ],
      "execution_count": 0,
      "outputs": []
    },
    {
      "cell_type": "code",
      "metadata": {
        "id": "Ms-BRN4deHIM",
        "colab_type": "code",
        "colab": {
          "base_uri": "https://localhost:8080/",
          "height": 71
        },
        "outputId": "c57f425a-85d6-4422-c38d-4aef426610b9"
      },
      "source": [
        "torch.manual_seed(1)\n",
        "model = LinearRegreesion(1, 1)\n",
        "print(model)"
      ],
      "execution_count": 108,
      "outputs": [
        {
          "output_type": "stream",
          "text": [
            "LinearRegreesion(\n",
            "  (linear): Linear(in_features=1, out_features=1, bias=True)\n",
            ")\n"
          ],
          "name": "stdout"
        }
      ]
    },
    {
      "cell_type": "code",
      "metadata": {
        "id": "gM4HiyjXhyJ1",
        "colab_type": "code",
        "colab": {
          "base_uri": "https://localhost:8080/",
          "height": 90
        },
        "outputId": "4f2bd063-76c3-4ea8-dc85-bc11b259d287"
      },
      "source": [
        "[w, b] = model.parameters()\n",
        "print(w, b)\n",
        "w1 = w[0][0].item()\n",
        "b1= b[0].item() # item used for convert into python numbers\n",
        "print(w1, b1)"
      ],
      "execution_count": 109,
      "outputs": [
        {
          "output_type": "stream",
          "text": [
            "Parameter containing:\n",
            "tensor([[0.5153]], requires_grad=True) Parameter containing:\n",
            "tensor([-0.4414], requires_grad=True)\n",
            "0.5152631998062134 -0.44137823581695557\n"
          ],
          "name": "stdout"
        }
      ]
    },
    {
      "cell_type": "code",
      "metadata": {
        "id": "9C13vGEvioxC",
        "colab_type": "code",
        "colab": {}
      },
      "source": [
        "# custom function for parameters: w and b values\n",
        "def get_params():\n",
        "  return (w[0][0].item(), b[0].item())"
      ],
      "execution_count": 0,
      "outputs": []
    },
    {
      "cell_type": "code",
      "metadata": {
        "id": "PDugtW3gi64E",
        "colab_type": "code",
        "colab": {}
      },
      "source": [
        "def plot_fit(title):\n",
        "  plt.title = title\n",
        "  w1, b1 = get_params()\n",
        "  x1 = np.array([-30, 30])\n",
        "  y1 = w1*x1 + b1\n",
        "  plt.plot(x1, y1, 'r')\n",
        "  plt.scatter(X,Y)\n",
        "  plt.show()"
      ],
      "execution_count": 0,
      "outputs": []
    },
    {
      "cell_type": "code",
      "metadata": {
        "id": "p3TO5rFHjnQG",
        "colab_type": "code",
        "colab": {
          "base_uri": "https://localhost:8080/",
          "height": 265
        },
        "outputId": "7c51c44c-d366-4e27-cdd0-1c3323901b47"
      },
      "source": [
        "plot_fit(\"Inital Ploting\")"
      ],
      "execution_count": 111,
      "outputs": [
        {
          "output_type": "display_data",
          "data": {
            "image/png": "[encoded data removed]",
            "text/plain": [
              "<Figure size 432x288 with 1 Axes>"
            ]
          },
          "metadata": {
            "tags": []
          }
        }
      ]
    },
    {
      "cell_type": "markdown",
      "metadata": {
        "id": "iemSXePejxrU",
        "colab_type": "text"
      },
      "source": [
        "Initially this red line is not suitable for this plot. So we need to reduce error"
      ]
    },
    {
      "cell_type": "code",
      "metadata": {
        "id": "iKjkKz2ulPrG",
        "colab_type": "code",
        "colab": {}
      },
      "source": [
        "# mean square error\n",
        "criterion = nn.MSELoss()\n",
        "# Gradient Descent\n",
        "optimizer = torch.optim.SGD(model.parameters(), lr = 0.01)\n",
        "# if lr is bigger then it will create unwanted converge peak"
      ],
      "execution_count": 0,
      "outputs": []
    },
    {
      "cell_type": "code",
      "metadata": {
        "id": "YgQcWx6ameUz",
        "colab_type": "code",
        "colab": {}
      },
      "source": [
        "from tqdm import tqdm"
      ],
      "execution_count": 0,
      "outputs": []
    },
    {
      "cell_type": "code",
      "metadata": {
        "id": "ZUXiEtCRl95_",
        "colab_type": "code",
        "colab": {
          "base_uri": "https://localhost:8080/",
          "height": 1000
        },
        "outputId": "c68d0002-63ec-48fa-e367-afc4f2421ed4"
      },
      "source": [
        "# For training model \n",
        "epochs = 100\n",
        "loss_list = []\n",
        "for i in tqdm(range(epochs)):\n",
        "  y_pred = model.forward(X)\n",
        "  loss = criterion(y_pred, Y)\n",
        "  print(\"Epoch: \",i, \"Loss: \", loss.item())\n",
        "\n",
        "  optimizer.zero_grad()\n",
        "  loss_list.append(loss)\n",
        "  loss.backward() # gradient\n",
        "  optimizer.step()"
      ],
      "execution_count": 119,
      "outputs": [
        {
          "output_type": "stream",
          "text": [
            "100%|██████████| 100/100 [00:00<00:00, 998.77it/s]"
          ],
          "name": "stderr"
        },
        {
          "output_type": "stream",
          "text": [
            "Epoch:  0 Loss:  8.991466522216797\n",
            "Epoch:  1 Loss:  8.99146556854248\n",
            "Epoch:  2 Loss:  8.991466522216797\n",
            "Epoch:  3 Loss:  8.991466522216797\n",
            "Epoch:  4 Loss:  8.991466522216797\n",
            "Epoch:  5 Loss:  8.991466522216797\n",
            "Epoch:  6 Loss:  8.991464614868164\n",
            "Epoch:  7 Loss:  8.99146556854248\n",
            "Epoch:  8 Loss:  8.991464614868164\n",
            "Epoch:  9 Loss:  8.991464614868164\n",
            "Epoch:  10 Loss:  8.991466522216797\n",
            "Epoch:  11 Loss:  8.991466522216797\n",
            "Epoch:  12 Loss:  8.99146556854248\n",
            "Epoch:  13 Loss:  8.991466522216797\n",
            "Epoch:  14 Loss:  8.99146556854248\n",
            "Epoch:  15 Loss:  8.99146556854248\n",
            "Epoch:  16 Loss:  8.99146556854248\n",
            "Epoch:  17 Loss:  8.991464614868164\n",
            "Epoch:  18 Loss:  8.99146556854248\n",
            "Epoch:  19 Loss:  8.99146556854248\n",
            "Epoch:  20 Loss:  8.991466522216797\n",
            "Epoch:  21 Loss:  8.99146556854248\n",
            "Epoch:  22 Loss:  8.991466522216797\n",
            "Epoch:  23 Loss:  8.991466522216797\n",
            "Epoch:  24 Loss:  8.991466522216797\n",
            "Epoch:  25 Loss:  8.991466522216797\n",
            "Epoch:  26 Loss:  8.991464614868164\n",
            "Epoch:  27 Loss:  8.99146556854248\n",
            "Epoch:  28 Loss:  8.991466522216797\n",
            "Epoch:  29 Loss:  8.991466522216797\n",
            "Epoch:  30 Loss:  8.991466522216797\n",
            "Epoch:  31 Loss:  8.991466522216797\n",
            "Epoch:  32 Loss:  8.99146556854248\n",
            "Epoch:  33 Loss:  8.99146556854248\n",
            "Epoch:  34 Loss:  8.991464614868164\n",
            "Epoch:  35 Loss:  8.99146556854248\n",
            "Epoch:  36 Loss:  8.991466522216797\n",
            "Epoch:  37 Loss:  8.99146556854248\n",
            "Epoch:  38 Loss:  8.991466522216797\n",
            "Epoch:  39 Loss:  8.99146556854248\n",
            "Epoch:  40 Loss:  8.991466522216797\n",
            "Epoch:  41 Loss:  8.991466522216797\n",
            "Epoch:  42 Loss:  8.991466522216797\n",
            "Epoch:  43 Loss:  8.991466522216797\n",
            "Epoch:  44 Loss:  8.99146556854248\n",
            "Epoch:  45 Loss:  8.991466522216797\n",
            "Epoch:  46 Loss:  8.99146556854248\n",
            "Epoch:  47 Loss:  8.991464614868164\n",
            "Epoch:  48 Loss:  8.99146556854248\n",
            "Epoch:  49 Loss:  8.991466522216797\n",
            "Epoch:  50 Loss:  8.99146556854248\n",
            "Epoch:  51 Loss:  8.99146556854248\n",
            "Epoch:  52 Loss:  8.991466522216797\n",
            "Epoch:  53 Loss:  8.99146556854248\n",
            "Epoch:  54 Loss:  8.991466522216797\n",
            "Epoch:  55 Loss:  8.991466522216797\n",
            "Epoch:  56 Loss:  8.991464614868164\n",
            "Epoch:  57 Loss:  8.991466522216797\n",
            "Epoch:  58 Loss:  8.99146556854248\n",
            "Epoch:  59 Loss:  8.991466522216797\n",
            "Epoch:  60 Loss:  8.991466522216797\n",
            "Epoch:  61 Loss:  8.991466522216797\n",
            "Epoch:  62 Loss:  8.99146556854248\n",
            "Epoch:  63 Loss:  8.99146556854248\n",
            "Epoch:  64 Loss:  8.991464614868164\n",
            "Epoch:  65 Loss:  8.991464614868164\n",
            "Epoch:  66 Loss:  8.991464614868164\n",
            "Epoch:  67 Loss:  8.991464614868164\n",
            "Epoch:  68 Loss:  8.99146556854248\n",
            "Epoch:  69 Loss:  8.991466522216797\n",
            "Epoch:  70 Loss:  8.991466522216797\n",
            "Epoch:  71 Loss:  8.991466522216797\n",
            "Epoch:  72 Loss:  8.991466522216797\n",
            "Epoch:  73 Loss:  8.99146556854248\n",
            "Epoch:  74 Loss:  8.99146556854248\n",
            "Epoch:  75 Loss:  8.991466522216797\n",
            "Epoch:  76 Loss:  8.991466522216797\n",
            "Epoch:  77 Loss:  8.991466522216797\n",
            "Epoch:  78 Loss:  8.99146556854248\n",
            "Epoch:  79 Loss:  8.991466522216797\n",
            "Epoch:  80 Loss:  8.991466522216797\n",
            "Epoch:  81 Loss:  8.99146556854248\n",
            "Epoch:  82 Loss:  8.99146556854248\n",
            "Epoch:  83 Loss:  8.99146556854248\n",
            "Epoch:  84 Loss:  8.991466522216797\n",
            "Epoch:  85 Loss:  8.99146556854248\n",
            "Epoch:  86 Loss:  8.99146556854248\n",
            "Epoch:  87 Loss:  8.991464614868164\n",
            "Epoch:  88 Loss:  8.99146556854248\n",
            "Epoch:  89 Loss:  8.99146556854248\n",
            "Epoch:  90 Loss:  8.991466522216797\n",
            "Epoch:  91 Loss:  8.991464614868164\n",
            "Epoch:  92 Loss:  8.991464614868164\n",
            "Epoch:  93 Loss:  8.991466522216797\n",
            "Epoch:  94 Loss:  8.991464614868164\n",
            "Epoch:  95 Loss:  8.99146556854248\n",
            "Epoch:  96 Loss:  8.991466522216797\n",
            "Epoch:  97 Loss:  8.99146556854248\n",
            "Epoch:  98 Loss:  8.991464614868164\n",
            "Epoch:  99 Loss:  8.99146556854248\n"
          ],
          "name": "stdout"
        },
        {
          "output_type": "stream",
          "text": [
            "\n"
          ],
          "name": "stderr"
        }
      ]
    },
    {
      "cell_type": "code",
      "metadata": {
        "id": "bSq4Qtkcn0_t",
        "colab_type": "code",
        "colab": {
          "base_uri": "https://localhost:8080/",
          "height": 297
        },
        "outputId": "03d530e8-eac1-4185-d462-ee63043ca790"
      },
      "source": [
        "# plot losses\n",
        "plt.plot(range(epochs), loss_list)\n",
        "plt.ylabel('Losses')\n",
        "plt.xlabel('Epochs')"
      ],
      "execution_count": 115,
      "outputs": [
        {
          "output_type": "execute_result",
          "data": {
            "text/plain": [
              "Text(0.5, 0, 'Epochs')"
            ]
          },
          "metadata": {
            "tags": []
          },
          "execution_count": 115
        },
        {
          "output_type": "display_data",
          "data": {
            "image/png": "[encoded data removed]",
            "text/plain": [
              "<Figure size 432x288 with 1 Axes>"
            ]
          },
          "metadata": {
            "tags": []
          }
        }
      ]
    },
    {
      "cell_type": "code",
      "metadata": {
        "id": "GODUTydpeMQ6",
        "colab_type": "code",
        "colab": {
          "base_uri": "https://localhost:8080/",
          "height": 53
        },
        "outputId": "7905cae2-3dc8-4090-dc20-a233507718c2"
      },
      "source": [
        "input_sample = torch.tensor([[1.0],[2.0]])\n",
        "print(\"Predited: \", model.forward(input_sample))"
      ],
      "execution_count": 59,
      "outputs": [
        {
          "output_type": "stream",
          "text": [
            "Predited:  tensor([[0.0739],\n",
            "        [0.5891]], grad_fn=<AddmmBackward>)\n"
          ],
          "name": "stdout"
        }
      ]
    },
    {
      "cell_type": "code",
      "metadata": {
        "id": "WfW9ohBJfU4r",
        "colab_type": "code",
        "colab": {
          "base_uri": "https://localhost:8080/",
          "height": 265
        },
        "outputId": "8c0f17b6-a9e7-40ec-ba26-6abd2eab5113"
      },
      "source": [
        "plot_fit(\"Trained Model\")"
      ],
      "execution_count": 116,
      "outputs": [
        {
          "output_type": "display_data",
          "data": {
            "image/png": "[encoded data removed]",
            "text/plain": [
              "<Figure size 432x288 with 1 Axes>"
            ]
          },
          "metadata": {
            "tags": []
          }
        }
      ]
    },
    {
      "cell_type": "code",
      "metadata": {
        "id": "jq5c9tZYo_B9",
        "colab_type": "code",
        "colab": {}
      },
      "source": [
        ""
      ],
      "execution_count": 0,
      "outputs": []
    }
  ]
}